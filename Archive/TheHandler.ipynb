{
 "cells": [
  {
   "cell_type": "code",
   "execution_count": null,
   "metadata": {},
   "outputs": [],
   "source": [
    "import pandas as pd\n",
    "import numpy as np\n",
    "import requests\n",
    "from bs4 import BeautifulSoup\n",
    "from selenium import webdriver\n",
    "from webdriver_manager.firefox import GeckoDriverManager\n",
    "from datetime import date\n",
    "import time\n",
    "from selenium.webdriver.common.keys import Keys"
   ]
  },
  {
   "cell_type": "code",
   "execution_count": null,
   "metadata": {},
   "outputs": [],
   "source": [
    "df = pd.read_csv(\"Data/Yellowpages_20-04-2020.csv\")\n",
    "df = df.drop(labels=[\"Unnamed: 0\"], axis=1)"
   ]
  },
  {
   "cell_type": "code",
   "execution_count": null,
   "metadata": {},
   "outputs": [],
   "source": [
    "df"
   ]
  },
  {
   "cell_type": "code",
   "execution_count": null,
   "metadata": {},
   "outputs": [],
   "source": [
    "def websiteOpener(df):\n",
    "    driver = webdriver.Firefox(executable_path=GeckoDriverManager().install())\n",
    "    windowCount = 0\n",
    "    for i in range(0, len(df)):\n",
    "        website = df.Website[i]\n",
    "        if website != \"N/V\":\n",
    "            try:\n",
    "                driver.get(website)\n",
    "            except:\n",
    "                pass\n",
    "            driver.execute_script(\"window.open('');\")\n",
    "            windowCount = windowCount + 1\n",
    "            time.sleep(0.3)\n",
    "            windows = driver.window_handles\n",
    "            driver.switch_to.window(windows[windowCount])\n",
    "        nameAsGoogleURL = df.Name[i].replace(\" \", \"+\")\n",
    "        nameAsGoogleURL = nameAsGoogleURL.replace(\"&\", \"%26\")\n",
    "        googleURL = f\"https://www.google.com/search?sxsrf=ALeKk03JZ7MGNzpIVsQdUGYdTnKTBCebfg%3A1587819992040&source=hp&ei=1zWkXsfjPMGdkwW4h77ADA&q={nameAsGoogleURL}&oq={nameAsGoogleURL}&gs_lcp=CgZwc3ktYWIQAzIFCAAQywEyBQgAEMsBMgUIABDLATIFCAAQywEyBQgAEMsBMgUIABDLATIFCAAQywEyBQgAEMsBMgUIABDLATIFCAAQywE6BwgjEOoCECc6BQgAEIMBOgIIADoECAAQClDiDljeGmDNHGgCcAB4AIABf4gB9guSAQQwLjE0mAEAoAEBqgEHZ3dzLXdperABCg&sclient=psy-ab&ved=0ahUKEwiHq9y00oPpAhXBzqQKHbiDD8gQ4dUDCAg&uact=5\"\n",
    "        driver.get(googleURL)\n",
    "        \n",
    "        if i % 5 == 0:\n",
    "            res = input(\"Next 5? \")\n",
    "            windowCount = 0\n",
    "            if res == \"n\":\n",
    "                driver.close()\n",
    "                break\n",
    "                \n",
    "        driver.execute_script(\"window.open('');\")\n",
    "        windowCount = windowCount + 1\n",
    "        time.sleep(0.3)\n",
    "        windows = driver.window_handles\n",
    "        driver.switch_to.window(windows[windowCount])"
   ]
  },
  {
   "cell_type": "code",
   "execution_count": null,
   "metadata": {},
   "outputs": [],
   "source": [
    "def handler():\n",
    "    for i in range(0, len(df)):\n",
    "        userRes = input(f\"{df.Name[i]}: Is all data correct (y), website does not exist (w), correct data (c), delete row (del):\")\n",
    "        if userRes == \"y\":\n",
    "            df.DateChecked[i] = date.today().strftime(\"%d/%m/%Y\")\n",
    "        elif userRes == \"w\":\n",
    "            df.Website[i] = \"N/V\"\n",
    "        elif userRes == \"c\":\n",
    "            pass\n",
    "        elif userRes == \"del\":\n",
    "            pass\n",
    "            # delete\n",
    "\n",
    "        # add crop code"
   ]
  },
  {
   "cell_type": "code",
   "execution_count": null,
   "metadata": {},
   "outputs": [],
   "source": [
    "websiteOpener(df)"
   ]
  },
  {
   "cell_type": "code",
   "execution_count": null,
   "metadata": {},
   "outputs": [],
   "source": [
    "# find correct window 0 after input\n",
    "# dont use window i + 1.. because its only going up to 10"
   ]
  }
 ],
 "metadata": {
  "kernelspec": {
   "display_name": "Python 3",
   "language": "python",
   "name": "python3"
  },
  "language_info": {
   "codemirror_mode": {
    "name": "ipython",
    "version": 3
   },
   "file_extension": ".py",
   "mimetype": "text/x-python",
   "name": "python",
   "nbconvert_exporter": "python",
   "pygments_lexer": "ipython3",
   "version": "3.7.3"
  }
 },
 "nbformat": 4,
 "nbformat_minor": 2
}
