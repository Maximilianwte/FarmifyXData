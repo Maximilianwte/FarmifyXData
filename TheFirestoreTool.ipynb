{
 "cells": [
  {
   "cell_type": "code",
   "execution_count": 1,
   "metadata": {},
   "outputs": [],
   "source": [
    "import firebase_admin\n",
    "from firebase_admin import credentials\n",
    "from firebase_admin import firestore\n",
    "import pandas as pd\n",
    "\n",
    "cred = credentials.Certificate('key.json')\n",
    "firebase_admin.initialize_app(cred)\n",
    "db = firestore.client()"
   ]
  },
  {
   "cell_type": "code",
   "execution_count": 1,
   "metadata": {},
   "outputs": [],
   "source": [
    "def addFarm(data):\n",
    "    # before adding, check if another value with the same Name & Adress exists. Right now we just add another\n",
    "    dbRef = db.collection(u'farms').document()\n",
    "    dbRef.set(data)\n",
    "\n",
    "def addFarmsFromDF(df):\n",
    "    for i in range(0, len(df)):\n",
    "        data = {\n",
    "        u'name': df.Name[i],\n",
    "        u'adress': df.Adress[i],\n",
    "        u'website': df.Website[i]\n",
    "        }\n",
    "        \n",
    "        addFarm(data)\n",
    "        \n",
    "def queryFarms(queryValue, queryField = u\"Name\", operator = u\"==\"):\n",
    "    docs = db.collection(u'farms').where(queryField, operator, queryValue).stream()\n",
    "\n",
    "    for doc in docs:\n",
    "        print(u'{} => {}'.format(doc.id, doc.to_dict()))\n",
    "        \n",
    "def addGroup(data):\n",
    "    # before adding, check if another value with the same Name & Adress exists. Right now we just add another\n",
    "    dbRef = db.collection(u'groups').document()\n",
    "    dbRef.set(data)\n",
    "        \n",
    "def addGroupsFromDF(df):\n",
    "    for i in range(0, len(df)):\n",
    "        data = {\n",
    "        u'id': df.index[i],\n",
    "        u'location': df.location[i],\n",
    "        u'farmsIncluded': df.farmsIncluded[i],\n",
    "        u'numberInGroup': df.numberInGroup[i]\n",
    "        }\n",
    "        \n",
    "        addGroup(data)"
   ]
  },
  {
   "cell_type": "code",
   "execution_count": 2,
   "metadata": {},
   "outputs": [],
   "source": [
    "data = {\n",
    "        u'name': u'Tims Apple Place',\n",
    "        u'state': u'First Road, 2004 Perth',\n",
    "        u'country': u'timsfarm.co.au'\n",
    "    }"
   ]
  },
  {
   "cell_type": "code",
   "execution_count": null,
   "metadata": {},
   "outputs": [],
   "source": [
    "df = pd.read_excel(\"Data/Data_27-04-2020.xlsx\")"
   ]
  },
  {
   "cell_type": "code",
   "execution_count": 6,
   "metadata": {},
   "outputs": [],
   "source": [
    "addFarm(data)"
   ]
  },
  {
   "cell_type": "code",
   "execution_count": 11,
   "metadata": {},
   "outputs": [],
   "source": [
    "queryFarms(u\"Tims Apple Place\", u\"Name\", u\"==\")"
   ]
  },
  {
   "cell_type": "code",
   "execution_count": null,
   "metadata": {},
   "outputs": [],
   "source": []
  }
 ],
 "metadata": {
  "kernelspec": {
   "display_name": "Python 3",
   "language": "python",
   "name": "python3"
  },
  "language_info": {
   "codemirror_mode": {
    "name": "ipython",
    "version": 3
   },
   "file_extension": ".py",
   "mimetype": "text/x-python",
   "name": "python",
   "nbconvert_exporter": "python",
   "pygments_lexer": "ipython3",
   "version": "3.7.3"
  }
 },
 "nbformat": 4,
 "nbformat_minor": 2
}
